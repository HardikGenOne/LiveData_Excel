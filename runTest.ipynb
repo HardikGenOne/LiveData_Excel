{
 "cells": [
  {
   "cell_type": "code",
   "execution_count": 2,
   "metadata": {},
   "outputs": [
    {
     "name": "stdout",
     "output_type": "stream",
     "text": [
      "✅ Excel file 'live_data.xlsx' created successfully.\n"
     ]
    }
   ],
   "source": [
    "import xlwings as xw\n",
    "\n",
    "# Create a new Excel workbook\n",
    "wb = xw.Book()\n",
    "\n",
    "# Use the first sheet and rename it\n",
    "sheet = wb.sheets[0]\n",
    "sheet.name = \"LiveData\"\n",
    "\n",
    "# Set column headers\n",
    "sheet.range(\"A1:D1\").value = [\"Symbol\", \"LTP\", \"Bid Qty\", \"Ask Qty\"]\n",
    "\n",
    "# Save the workbook\n",
    "wb.save(\"live_data.xlsx\")\n",
    "wb.close()\n",
    "\n",
    "print(\"✅ Excel file 'live_data.xlsx' created successfully.\")\n"
   ]
  },
  {
   "cell_type": "code",
   "execution_count": null,
   "metadata": {},
   "outputs": [],
   "source": []
  }
 ],
 "metadata": {
  "kernelspec": {
   "display_name": ".venv",
   "language": "python",
   "name": "python3"
  },
  "language_info": {
   "codemirror_mode": {
    "name": "ipython",
    "version": 3
   },
   "file_extension": ".py",
   "mimetype": "text/x-python",
   "name": "python",
   "nbconvert_exporter": "python",
   "pygments_lexer": "ipython3",
   "version": "3.13.2"
  }
 },
 "nbformat": 4,
 "nbformat_minor": 2
}
